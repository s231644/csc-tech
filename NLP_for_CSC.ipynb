{
 "cells": [
  {
   "cell_type": "markdown",
   "metadata": {
    "slideshow": {
     "slide_type": "slide"
    }
   },
   "source": [
    "# NLP для русского языка. Обзор библиотек"
   ]
  },
  {
   "cell_type": "markdown",
   "metadata": {
    "slideshow": {
     "slide_type": "subslide"
    }
   },
   "source": [
    "## NLP"
   ]
  },
  {
   "cell_type": "markdown",
   "metadata": {
    "slideshow": {
     "slide_type": "subslide"
    }
   },
   "source": [
    "![](https://ticary.com/assets/img/NLP.png)"
   ]
  },
  {
   "cell_type": "markdown",
   "metadata": {
    "slideshow": {
     "slide_type": "subslide"
    }
   },
   "source": [
    "**Обработка естественного языка** — дисциплина, которая изучает проблемы компьютерного анализа и синтеза естественных языков."
   ]
  },
  {
   "cell_type": "markdown",
   "metadata": {
    "slideshow": {
     "slide_type": "subslide"
    }
   },
   "source": [
    "Часто в NLP рассматриваются задачи, связанные с разделами теоретической лингвистики. Приведем несколько примеров.\n",
    "\n",
    "* Lemmatization, Stemming (морфология, синтаксис)\n",
    "\n",
    "* Part-of-speech tagging (морфология, синтаксис)\n",
    "\n",
    "* Построение word embeddings (лексическая семантика)\n",
    "\n",
    "* Machine translation (семантика, прагматика)\n",
    "\n",
    "Также есть широкий круг более прикладных задач, как то:\n",
    "\n",
    "* Named entity recognition\n",
    "\n",
    "* Question answering\n",
    "\n",
    "* Relationship extraction\n",
    "\n",
    "* Sentiment analysis\n",
    "\n",
    "* Topic modeling\n",
    "\n",
    "* Word sense induction\n",
    "\n",
    "* Word sense disambiguation"
   ]
  },
  {
   "cell_type": "markdown",
   "metadata": {
    "slideshow": {
     "slide_type": "subslide"
    }
   },
   "source": [
    "Сегодня мы поговорим о том, какие существуют средства для решения некоторых из этих задач."
   ]
  },
  {
   "cell_type": "markdown",
   "metadata": {
    "slideshow": {
     "slide_type": "slide"
    }
   },
   "source": [
    "## Морфология"
   ]
  },
  {
   "cell_type": "markdown",
   "metadata": {
    "slideshow": {
     "slide_type": "subslide"
    }
   },
   "source": [
    "### pymorphy2"
   ]
  },
  {
   "cell_type": "markdown",
   "metadata": {
    "slideshow": {
     "slide_type": "subslide"
    }
   },
   "source": [
    "pymorphy2 написан на языке C++ и обёрнут в Python (работает под 2.7 и 3.3+). Он умеет:\n",
    "\n",
    "* приводить слово к нормальной форме (например, «люди -> человек», или «гулял -> гулять»)\n",
    "* ставить слово в нужную форму. Например, ставить слово во множественное число, менять падеж слова и т. д.\n",
    "* возвращать грамматическую информацию о слове (число, род, падеж, часть речи и т.д.)\n",
    "\n",
    "\n",
    "https://github.com/kmike/pymorphy2"
   ]
  },
  {
   "cell_type": "code",
   "execution_count": 1,
   "metadata": {
    "slideshow": {
     "slide_type": "subslide"
    }
   },
   "outputs": [],
   "source": [
    "import pymorphy2\n",
    "morph = pymorphy2.MorphAnalyzer()"
   ]
  },
  {
   "cell_type": "code",
   "execution_count": 2,
   "metadata": {
    "slideshow": {
     "slide_type": "subslide"
    }
   },
   "outputs": [
    {
     "data": {
      "text/plain": [
       "[Parse(word='стали', tag=OpencorporaTag('VERB,perf,intr plur,past,indc'), normal_form='стать', score=0.984662, methods_stack=((<DictionaryAnalyzer>, 'стали', 904, 4),)),\n",
       " Parse(word='стали', tag=OpencorporaTag('NOUN,inan,femn sing,gent'), normal_form='сталь', score=0.003067, methods_stack=((<DictionaryAnalyzer>, 'стали', 13, 1),)),\n",
       " Parse(word='стали', tag=OpencorporaTag('NOUN,inan,femn sing,datv'), normal_form='сталь', score=0.003067, methods_stack=((<DictionaryAnalyzer>, 'стали', 13, 2),)),\n",
       " Parse(word='стали', tag=OpencorporaTag('NOUN,inan,femn sing,loct'), normal_form='сталь', score=0.003067, methods_stack=((<DictionaryAnalyzer>, 'стали', 13, 5),)),\n",
       " Parse(word='стали', tag=OpencorporaTag('NOUN,inan,femn plur,nomn'), normal_form='сталь', score=0.003067, methods_stack=((<DictionaryAnalyzer>, 'стали', 13, 6),)),\n",
       " Parse(word='стали', tag=OpencorporaTag('NOUN,inan,femn plur,accs'), normal_form='сталь', score=0.003067, methods_stack=((<DictionaryAnalyzer>, 'стали', 13, 9),))]"
      ]
     },
     "execution_count": 2,
     "metadata": {},
     "output_type": "execute_result"
    }
   ],
   "source": [
    "morph.parse('стали')"
   ]
  },
  {
   "cell_type": "code",
   "execution_count": 3,
   "metadata": {
    "slideshow": {
     "slide_type": "subslide"
    }
   },
   "outputs": [
    {
     "data": {
      "text/plain": [
       "'стать'"
      ]
     },
     "execution_count": 3,
     "metadata": {},
     "output_type": "execute_result"
    }
   ],
   "source": [
    "p = morph.parse('стали')[0]\n",
    "p.normal_form"
   ]
  },
  {
   "cell_type": "code",
   "execution_count": 4,
   "metadata": {
    "slideshow": {
     "slide_type": "subslide"
    }
   },
   "outputs": [
    {
     "data": {
      "text/plain": [
       "'захотеться'"
      ]
     },
     "execution_count": 4,
     "metadata": {},
     "output_type": "execute_result"
    }
   ],
   "source": [
    "p = morph.parse('захотелось')[0]\n",
    "p.normal_form"
   ]
  },
  {
   "cell_type": "code",
   "execution_count": 5,
   "metadata": {
    "slideshow": {
     "slide_type": "subslide"
    }
   },
   "outputs": [
    {
     "data": {
      "text/plain": [
       "Parse(word='захотеться', tag=OpencorporaTag('INFN,perf,intr,Impe'), normal_form='захотеться', score=1.0, methods_stack=((<DictionaryAnalyzer>, 'захотеться', 1574, 0),))"
      ]
     },
     "execution_count": 5,
     "metadata": {},
     "output_type": "execute_result"
    }
   ],
   "source": [
    "p.normalized"
   ]
  },
  {
   "cell_type": "code",
   "execution_count": 6,
   "metadata": {
    "slideshow": {
     "slide_type": "subslide"
    }
   },
   "outputs": [
    {
     "data": {
      "text/plain": [
       "[Parse(word='временами', tag=OpencorporaTag('ADVB'), normal_form='временами', score=0.666666, methods_stack=((<DictionaryAnalyzer>, 'временами', 3, 0),)),\n",
       " Parse(word='временами', tag=OpencorporaTag('NOUN,inan,neut plur,ablt'), normal_form='время', score=0.333333, methods_stack=((<DictionaryAnalyzer>, 'временами', 536, 10),))]"
      ]
     },
     "execution_count": 6,
     "metadata": {},
     "output_type": "execute_result"
    }
   ],
   "source": [
    "morph.parse('временами')"
   ]
  },
  {
   "cell_type": "code",
   "execution_count": 7,
   "metadata": {
    "slideshow": {
     "slide_type": "subslide"
    }
   },
   "outputs": [
    {
     "data": {
      "text/plain": [
       "[Parse(word='бутявковедами', tag=OpencorporaTag('NOUN,anim,masc plur,ablt'), normal_form='бутявковед', score=1.0, methods_stack=((<FakeDictionary>, 'бутявковедами', 52, 10), (<KnownSuffixAnalyzer>, 'едами')))]"
      ]
     },
     "execution_count": 7,
     "metadata": {},
     "output_type": "execute_result"
    }
   ],
   "source": [
    "morph.parse('бутявковедами')"
   ]
  },
  {
   "cell_type": "code",
   "execution_count": 8,
   "metadata": {
    "slideshow": {
     "slide_type": "subslide"
    }
   },
   "outputs": [
    {
     "data": {
      "text/plain": [
       "Parse(word='бутявка', tag=OpencorporaTag('NOUN,inan,femn sing,nomn'), normal_form='бутявка', score=1.0, methods_stack=((<DictionaryAnalyzer>, 'явка', 8, 0), (<UnknownPrefixAnalyzer>, 'бут')))"
      ]
     },
     "execution_count": 8,
     "metadata": {},
     "output_type": "execute_result"
    }
   ],
   "source": [
    "butyavka = morph.parse('бутявка')[0]\n",
    "butyavka"
   ]
  },
  {
   "cell_type": "code",
   "execution_count": 9,
   "metadata": {
    "slideshow": {
     "slide_type": "subslide"
    }
   },
   "outputs": [
    {
     "data": {
      "text/plain": [
       "Parse(word='бутявок', tag=OpencorporaTag('NOUN,inan,femn plur,gent'), normal_form='бутявка', score=1.0, methods_stack=((<DictionaryAnalyzer>, 'явок', 8, 8), (<UnknownPrefixAnalyzer>, 'бут')))"
      ]
     },
     "execution_count": 9,
     "metadata": {},
     "output_type": "execute_result"
    }
   ],
   "source": [
    "butyavka.inflect({'plur', 'gent'})  # кого много?"
   ]
  },
  {
   "cell_type": "code",
   "execution_count": 10,
   "metadata": {
    "slideshow": {
     "slide_type": "subslide"
    }
   },
   "outputs": [
    {
     "data": {
      "text/plain": [
       "[Parse(word='бутявка', tag=OpencorporaTag('NOUN,inan,femn sing,nomn'), normal_form='бутявка', score=1.0, methods_stack=((<DictionaryAnalyzer>, 'явка', 8, 0), (<UnknownPrefixAnalyzer>, 'бут'))),\n",
       " Parse(word='бутявки', tag=OpencorporaTag('NOUN,inan,femn sing,gent'), normal_form='бутявка', score=1.0, methods_stack=((<DictionaryAnalyzer>, 'явки', 8, 1), (<UnknownPrefixAnalyzer>, 'бут'))),\n",
       " Parse(word='бутявке', tag=OpencorporaTag('NOUN,inan,femn sing,datv'), normal_form='бутявка', score=1.0, methods_stack=((<DictionaryAnalyzer>, 'явке', 8, 2), (<UnknownPrefixAnalyzer>, 'бут'))),\n",
       " Parse(word='бутявку', tag=OpencorporaTag('NOUN,inan,femn sing,accs'), normal_form='бутявка', score=1.0, methods_stack=((<DictionaryAnalyzer>, 'явку', 8, 3), (<UnknownPrefixAnalyzer>, 'бут'))),\n",
       " Parse(word='бутявкой', tag=OpencorporaTag('NOUN,inan,femn sing,ablt'), normal_form='бутявка', score=1.0, methods_stack=((<DictionaryAnalyzer>, 'явкой', 8, 4), (<UnknownPrefixAnalyzer>, 'бут'))),\n",
       " Parse(word='бутявкою', tag=OpencorporaTag('NOUN,inan,femn sing,ablt,V-oy'), normal_form='бутявка', score=1.0, methods_stack=((<DictionaryAnalyzer>, 'явкою', 8, 5), (<UnknownPrefixAnalyzer>, 'бут'))),\n",
       " Parse(word='бутявке', tag=OpencorporaTag('NOUN,inan,femn sing,loct'), normal_form='бутявка', score=1.0, methods_stack=((<DictionaryAnalyzer>, 'явке', 8, 6), (<UnknownPrefixAnalyzer>, 'бут'))),\n",
       " Parse(word='бутявки', tag=OpencorporaTag('NOUN,inan,femn plur,nomn'), normal_form='бутявка', score=1.0, methods_stack=((<DictionaryAnalyzer>, 'явки', 8, 7), (<UnknownPrefixAnalyzer>, 'бут'))),\n",
       " Parse(word='бутявок', tag=OpencorporaTag('NOUN,inan,femn plur,gent'), normal_form='бутявка', score=1.0, methods_stack=((<DictionaryAnalyzer>, 'явок', 8, 8), (<UnknownPrefixAnalyzer>, 'бут'))),\n",
       " Parse(word='бутявкам', tag=OpencorporaTag('NOUN,inan,femn plur,datv'), normal_form='бутявка', score=1.0, methods_stack=((<DictionaryAnalyzer>, 'явкам', 8, 9), (<UnknownPrefixAnalyzer>, 'бут'))),\n",
       " Parse(word='бутявки', tag=OpencorporaTag('NOUN,inan,femn plur,accs'), normal_form='бутявка', score=1.0, methods_stack=((<DictionaryAnalyzer>, 'явки', 8, 10), (<UnknownPrefixAnalyzer>, 'бут'))),\n",
       " Parse(word='бутявками', tag=OpencorporaTag('NOUN,inan,femn plur,ablt'), normal_form='бутявка', score=1.0, methods_stack=((<DictionaryAnalyzer>, 'явками', 8, 11), (<UnknownPrefixAnalyzer>, 'бут'))),\n",
       " Parse(word='бутявках', tag=OpencorporaTag('NOUN,inan,femn plur,loct'), normal_form='бутявка', score=1.0, methods_stack=((<DictionaryAnalyzer>, 'явках', 8, 12), (<UnknownPrefixAnalyzer>, 'бут')))]"
      ]
     },
     "execution_count": 10,
     "metadata": {},
     "output_type": "execute_result"
    }
   ],
   "source": [
    "butyavka.lexeme"
   ]
  },
  {
   "cell_type": "markdown",
   "metadata": {
    "slideshow": {
     "slide_type": "subslide"
    }
   },
   "source": [
    "### pymystem3"
   ]
  },
  {
   "cell_type": "markdown",
   "metadata": {
    "slideshow": {
     "slide_type": "subslide"
    }
   },
   "source": [
    "pymystem3 — это Python-версия системы Yandex Mystem 3.0, представленной в 2014 году. Этот морфологический анализатор может проводить лемматизацию текста и выделять морфотеги для каждого токена.\n",
    "\n",
    "https://github.com/nlpub/pymystem3"
   ]
  },
  {
   "cell_type": "code",
   "execution_count": 11,
   "metadata": {
    "slideshow": {
     "slide_type": "subslide"
    }
   },
   "outputs": [],
   "source": [
    "import json\n",
    "from pymystem3 import Mystem\n",
    "text = \"Красивая мама красиво мыла раму\"\n",
    "m = Mystem()"
   ]
  },
  {
   "cell_type": "code",
   "execution_count": 12,
   "metadata": {
    "slideshow": {
     "slide_type": "subslide"
    }
   },
   "outputs": [
    {
     "name": "stdout",
     "output_type": "stream",
     "text": [
      "красивый мама красиво мыть рама\n",
      "\n"
     ]
    }
   ],
   "source": [
    "lemmas = m.lemmatize(text)\n",
    "print(''.join(lemmas))"
   ]
  },
  {
   "cell_type": "code",
   "execution_count": 13,
   "metadata": {
    "slideshow": {
     "slide_type": "subslide"
    }
   },
   "outputs": [
    {
     "name": "stdout",
     "output_type": "stream",
     "text": [
      "lemmas: красивый мама красиво мыть рама\n",
      "\n",
      "full info: [{\"analysis\": [{\"lex\": \"красивый\", \"gr\": \"A=им,ед,полн,жен\"}], \"text\": \"Красивая\"}, {\"text\": \" \"}, {\"analysis\": [{\"lex\": \"мама\", \"gr\": \"S,жен,од=им,ед\"}], \"text\": \"мама\"}, {\"text\": \" \"}, {\"analysis\": [{\"lex\": \"красиво\", \"gr\": \"ADV=\"}], \"text\": \"красиво\"}, {\"text\": \" \"}, {\"analysis\": [{\"lex\": \"мыть\", \"gr\": \"V,несов,пе=прош,ед,изъяв,жен\"}], \"text\": \"мыла\"}, {\"text\": \" \"}, {\"analysis\": [{\"lex\": \"рама\", \"gr\": \"S,жен,неод=вин,ед\"}], \"text\": \"раму\"}, {\"text\": \"\\n\"}]\n"
     ]
    }
   ],
   "source": [
    "lemmas = m.lemmatize(text)\n",
    "\n",
    "print(\"lemmas:\", ''.join(lemmas))\n",
    "print(\"full info:\", json.dumps(m.analyze(text), ensure_ascii=False))"
   ]
  },
  {
   "cell_type": "code",
   "execution_count": 14,
   "metadata": {
    "slideshow": {
     "slide_type": "subslide"
    }
   },
   "outputs": [
    {
     "data": {
      "text/plain": [
       "[{'analysis': [{'gr': 'S,жен,од=(род,ед|им,мн)', 'lex': 'выдра'}],\n",
       "  'text': 'выдры'},\n",
       " {'text': '\\n'}]"
      ]
     },
     "execution_count": 14,
     "metadata": {},
     "output_type": "execute_result"
    }
   ],
   "source": [
    "m.analyze('выдры')"
   ]
  },
  {
   "cell_type": "code",
   "execution_count": 15,
   "metadata": {
    "slideshow": {
     "slide_type": "subslide"
    }
   },
   "outputs": [
    {
     "data": {
      "text/plain": [
       "[{'analysis': [{'gr': 'S,сред,неод=твор,мн', 'lex': 'время'}],\n",
       "  'text': 'временами'},\n",
       " {'text': '\\n'}]"
      ]
     },
     "execution_count": 15,
     "metadata": {},
     "output_type": "execute_result"
    }
   ],
   "source": [
    "m.analyze('временами')"
   ]
  },
  {
   "cell_type": "code",
   "execution_count": 16,
   "metadata": {
    "slideshow": {
     "slide_type": "subslide"
    }
   },
   "outputs": [
    {
     "data": {
      "text/plain": [
       "[{'analysis': [{'gr': 'V,нп=прош,мн,изъяв,сов', 'lex': 'становиться'}],\n",
       "  'text': 'стали'},\n",
       " {'text': '\\n'}]"
      ]
     },
     "execution_count": 16,
     "metadata": {},
     "output_type": "execute_result"
    }
   ],
   "source": [
    "m.analyze('стали')"
   ]
  },
  {
   "cell_type": "code",
   "execution_count": 17,
   "metadata": {
    "slideshow": {
     "slide_type": "subslide"
    }
   },
   "outputs": [
    {
     "data": {
      "text/plain": [
       "[{'analysis': [{'gr': 'A=ед,кр,сред', 'lex': 'зеленый'}], 'text': 'зелено'},\n",
       " {'text': '\\n'}]"
      ]
     },
     "execution_count": 17,
     "metadata": {},
     "output_type": "execute_result"
    }
   ],
   "source": [
    "m.analyze('зелено')"
   ]
  },
  {
   "cell_type": "code",
   "execution_count": 18,
   "metadata": {
    "slideshow": {
     "slide_type": "subslide"
    }
   },
   "outputs": [
    {
     "data": {
      "text/plain": [
       "[{'analysis': [{'gr': 'S,жен,неод=(вин,ед|им,ед)', 'lex': 'печь'}],\n",
       "  'text': 'печь'},\n",
       " {'text': '\\n'}]"
      ]
     },
     "execution_count": 18,
     "metadata": {},
     "output_type": "execute_result"
    }
   ],
   "source": [
    "m.analyze('печь')"
   ]
  },
  {
   "cell_type": "markdown",
   "metadata": {
    "slideshow": {
     "slide_type": "subslide"
    }
   },
   "source": [
    "Как мы видим, pymystem возвращает только один вариант части речи разбора, что неудобно. Похоже, что здесь реализовано намного меньше функций, чем в настоящем Mystem. Также специалисты говорят, что эта реализация уступает по скорости яндексовской.\n",
    "\n",
    "![](https://sun9-2.userapi.com/c840630/v840630195/21207/4yvg_iUxSIw.jpg)"
   ]
  },
  {
   "cell_type": "markdown",
   "metadata": {
    "slideshow": {
     "slide_type": "slide"
    }
   },
   "source": [
    "## Дистрибутивная семантика"
   ]
  },
  {
   "cell_type": "markdown",
   "metadata": {
    "slideshow": {
     "slide_type": "subslide"
    }
   },
   "source": [
    "### gensim"
   ]
  },
  {
   "cell_type": "markdown",
   "metadata": {
    "slideshow": {
     "slide_type": "subslide"
    }
   },
   "source": [
    "gensim позволяет работать с векторными представлениями слов, в том числе проводить тематическое моделирование. Здесь есть такие популярные алгоритмы, как word2vec, fasttext, LSA (LSI), LDA и др.\n",
    "\n",
    "https://github.com/RaRe-Technologies/gensim"
   ]
  },
  {
   "cell_type": "markdown",
   "metadata": {
    "slideshow": {
     "slide_type": "subslide"
    }
   },
   "source": [
    "Наверняка вы много раз видели этот пример про королей и королев.\n",
    "\n",
    "![](https://pp.userapi.com/c824503/v824503923/1341f0/dz5K0FrtOxg.jpg)\n",
    "\n",
    "На самом деле всё намного сложнее, но зачем нам сейчас об этом думать? :) Давайте решать пропорции! "
   ]
  },
  {
   "cell_type": "markdown",
   "metadata": {
    "slideshow": {
     "slide_type": "subslide"
    }
   },
   "source": [
    "Мы возьмем обученную модель с сайта http://www.rusvectores.org/ru/."
   ]
  },
  {
   "cell_type": "code",
   "execution_count": 19,
   "metadata": {
    "slideshow": {
     "slide_type": "subslide"
    }
   },
   "outputs": [],
   "source": [
    "from gensim.models import Word2Vec, KeyedVectors"
   ]
  },
  {
   "cell_type": "code",
   "execution_count": 20,
   "metadata": {
    "slideshow": {
     "slide_type": "subslide"
    }
   },
   "outputs": [],
   "source": [
    "import warnings\n",
    "warnings.filterwarnings(\"ignore\", category=DeprecationWarning)"
   ]
  },
  {
   "cell_type": "code",
   "execution_count": 21,
   "metadata": {
    "slideshow": {
     "slide_type": "subslide"
    }
   },
   "outputs": [],
   "source": [
    "model = KeyedVectors.load_word2vec_format('ruscorpora_1_300_10.bin', binary=True)"
   ]
  },
  {
   "cell_type": "markdown",
   "metadata": {
    "slideshow": {
     "slide_type": "subslide"
    }
   },
   "source": [
    "Модели с RusVectores содержат, помимо самого слова, еще и его часть речи, поэтому нужно быть осторожными, когда обращаетесь к элементам словаря."
   ]
  },
  {
   "cell_type": "code",
   "execution_count": 22,
   "metadata": {
    "slideshow": {
     "slide_type": "subslide"
    }
   },
   "outputs": [
    {
     "ename": "KeyError",
     "evalue": "\"word 'компьютер' not in vocabulary\"",
     "output_type": "error",
     "traceback": [
      "\u001b[0;31m---------------------------------------------------------------------------\u001b[0m",
      "\u001b[0;31mKeyError\u001b[0m                                  Traceback (most recent call last)",
      "\u001b[0;32m<ipython-input-22-6c7d5a80f7e5>\u001b[0m in \u001b[0;36m<module>\u001b[0;34m()\u001b[0m\n\u001b[0;32m----> 1\u001b[0;31m \u001b[0mmodel\u001b[0m\u001b[0;34m.\u001b[0m\u001b[0mwv\u001b[0m\u001b[0;34m[\u001b[0m\u001b[0;34m'компьютер'\u001b[0m\u001b[0;34m]\u001b[0m\u001b[0;34m\u001b[0m\u001b[0m\n\u001b[0m",
      "\u001b[0;32m~/Programming/anaconda3/lib/python3.6/site-packages/gensim/models/keyedvectors.py\u001b[0m in \u001b[0;36m__getitem__\u001b[0;34m(self, entities)\u001b[0m\n\u001b[1;32m    167\u001b[0m         \u001b[0;32mif\u001b[0m \u001b[0misinstance\u001b[0m\u001b[0;34m(\u001b[0m\u001b[0mentities\u001b[0m\u001b[0;34m,\u001b[0m \u001b[0mstring_types\u001b[0m\u001b[0;34m)\u001b[0m\u001b[0;34m:\u001b[0m\u001b[0;34m\u001b[0m\u001b[0m\n\u001b[1;32m    168\u001b[0m             \u001b[0;31m# allow calls like trained_model['office'], as a shorthand for trained_model[['office']]\u001b[0m\u001b[0;34m\u001b[0m\u001b[0;34m\u001b[0m\u001b[0m\n\u001b[0;32m--> 169\u001b[0;31m             \u001b[0;32mreturn\u001b[0m \u001b[0mself\u001b[0m\u001b[0;34m.\u001b[0m\u001b[0mget_vector\u001b[0m\u001b[0;34m(\u001b[0m\u001b[0mentities\u001b[0m\u001b[0;34m)\u001b[0m\u001b[0;34m\u001b[0m\u001b[0m\n\u001b[0m\u001b[1;32m    170\u001b[0m \u001b[0;34m\u001b[0m\u001b[0m\n\u001b[1;32m    171\u001b[0m         \u001b[0;32mreturn\u001b[0m \u001b[0mvstack\u001b[0m\u001b[0;34m(\u001b[0m\u001b[0;34m[\u001b[0m\u001b[0mself\u001b[0m\u001b[0;34m.\u001b[0m\u001b[0mget_vector\u001b[0m\u001b[0;34m(\u001b[0m\u001b[0mentity\u001b[0m\u001b[0;34m)\u001b[0m \u001b[0;32mfor\u001b[0m \u001b[0mentity\u001b[0m \u001b[0;32min\u001b[0m \u001b[0mentities\u001b[0m\u001b[0;34m]\u001b[0m\u001b[0;34m)\u001b[0m\u001b[0;34m\u001b[0m\u001b[0m\n",
      "\u001b[0;32m~/Programming/anaconda3/lib/python3.6/site-packages/gensim/models/keyedvectors.py\u001b[0m in \u001b[0;36mget_vector\u001b[0;34m(self, word)\u001b[0m\n\u001b[1;32m    275\u001b[0m \u001b[0;34m\u001b[0m\u001b[0m\n\u001b[1;32m    276\u001b[0m     \u001b[0;32mdef\u001b[0m \u001b[0mget_vector\u001b[0m\u001b[0;34m(\u001b[0m\u001b[0mself\u001b[0m\u001b[0;34m,\u001b[0m \u001b[0mword\u001b[0m\u001b[0;34m)\u001b[0m\u001b[0;34m:\u001b[0m\u001b[0;34m\u001b[0m\u001b[0m\n\u001b[0;32m--> 277\u001b[0;31m         \u001b[0;32mreturn\u001b[0m \u001b[0mself\u001b[0m\u001b[0;34m.\u001b[0m\u001b[0mword_vec\u001b[0m\u001b[0;34m(\u001b[0m\u001b[0mword\u001b[0m\u001b[0;34m)\u001b[0m\u001b[0;34m\u001b[0m\u001b[0m\n\u001b[0m\u001b[1;32m    278\u001b[0m \u001b[0;34m\u001b[0m\u001b[0m\n\u001b[1;32m    279\u001b[0m     \u001b[0;32mdef\u001b[0m \u001b[0mwords_closer_than\u001b[0m\u001b[0;34m(\u001b[0m\u001b[0mself\u001b[0m\u001b[0;34m,\u001b[0m \u001b[0mw1\u001b[0m\u001b[0;34m,\u001b[0m \u001b[0mw2\u001b[0m\u001b[0;34m)\u001b[0m\u001b[0;34m:\u001b[0m\u001b[0;34m\u001b[0m\u001b[0m\n",
      "\u001b[0;32m~/Programming/anaconda3/lib/python3.6/site-packages/gensim/models/keyedvectors.py\u001b[0m in \u001b[0;36mword_vec\u001b[0;34m(self, word, use_norm)\u001b[0m\n\u001b[1;32m    272\u001b[0m             \u001b[0;32mreturn\u001b[0m \u001b[0mresult\u001b[0m\u001b[0;34m\u001b[0m\u001b[0m\n\u001b[1;32m    273\u001b[0m         \u001b[0;32melse\u001b[0m\u001b[0;34m:\u001b[0m\u001b[0;34m\u001b[0m\u001b[0m\n\u001b[0;32m--> 274\u001b[0;31m             \u001b[0;32mraise\u001b[0m \u001b[0mKeyError\u001b[0m\u001b[0;34m(\u001b[0m\u001b[0;34m\"word '%s' not in vocabulary\"\u001b[0m \u001b[0;34m%\u001b[0m \u001b[0mword\u001b[0m\u001b[0;34m)\u001b[0m\u001b[0;34m\u001b[0m\u001b[0m\n\u001b[0m\u001b[1;32m    275\u001b[0m \u001b[0;34m\u001b[0m\u001b[0m\n\u001b[1;32m    276\u001b[0m     \u001b[0;32mdef\u001b[0m \u001b[0mget_vector\u001b[0m\u001b[0;34m(\u001b[0m\u001b[0mself\u001b[0m\u001b[0;34m,\u001b[0m \u001b[0mword\u001b[0m\u001b[0;34m)\u001b[0m\u001b[0;34m:\u001b[0m\u001b[0;34m\u001b[0m\u001b[0m\n",
      "\u001b[0;31mKeyError\u001b[0m: \"word 'компьютер' not in vocabulary\""
     ]
    }
   ],
   "source": [
    "model.wv['компьютер']"
   ]
  },
  {
   "cell_type": "code",
   "execution_count": 23,
   "metadata": {
    "slideshow": {
     "slide_type": "subslide"
    }
   },
   "outputs": [
    {
     "data": {
      "text/plain": [
       "array([ 0.01430139,  0.0585151 ,  0.00888936,  0.04709152,  0.02443909,\n",
       "        0.02237037,  0.01119217, -0.03856995,  0.00391753, -0.01090403,\n",
       "       -0.03795073, -0.12944432,  0.00771374, -0.03216182,  0.0257799 ,\n",
       "        0.14314511,  0.07175423, -0.00843156,  0.04627819,  0.04163702,\n",
       "        0.04569011,  0.0178656 , -0.10358775, -0.0873604 ,  0.00504671,\n",
       "       -0.08179374,  0.03362726,  0.01686064, -0.05553121, -0.00164675,\n",
       "        0.07158661,  0.15203299, -0.07288519, -0.04842876, -0.025621  ,\n",
       "       -0.04352614,  0.02322739,  0.03708712, -0.05625819, -0.04457819,\n",
       "       -0.02869111, -0.07964686, -0.00610048, -0.05819916, -0.02231851,\n",
       "        0.04443615,  0.06594996,  0.04559314,  0.1214591 , -0.07432085,\n",
       "       -0.09421676,  0.00067027, -0.05282485,  0.07496892,  0.10375467,\n",
       "       -0.00704413, -0.04028241, -0.01665381,  0.04324005, -0.00363478,\n",
       "       -0.11470584,  0.07778125,  0.04445337, -0.00512672,  0.02029156,\n",
       "        0.00285956,  0.00049445,  0.08358394,  0.03688211,  0.00148938,\n",
       "       -0.15270999,  0.06753277,  0.09225953,  0.03065357,  0.06280594,\n",
       "        0.05282926, -0.03465497,  0.00508373,  0.01029558, -0.04436544,\n",
       "       -0.07089814, -0.00338307,  0.00484423, -0.02777164, -0.06069414,\n",
       "       -0.05184332, -0.05078329, -0.01881848,  0.06655031,  0.06154449,\n",
       "       -0.0393821 ,  0.07315158, -0.04035363, -0.11501228,  0.04399509,\n",
       "        0.02383697,  0.04144307, -0.07660676,  0.07553513,  0.0301104 ,\n",
       "       -0.06216367,  0.00037   , -0.07439132, -0.11151675, -0.01650867,\n",
       "       -0.0014121 , -0.05222734,  0.00705356,  0.0308649 , -0.0403318 ,\n",
       "        0.06172578, -0.02567763, -0.17006148,  0.02700819,  0.01074059,\n",
       "       -0.06525087, -0.08741942, -0.05941469, -0.00371196,  0.01214742,\n",
       "       -0.05081509, -0.05069169,  0.01067594, -0.14479223, -0.01954182,\n",
       "        0.0363893 , -0.06590908, -0.00909666, -0.1023862 ,  0.09290623,\n",
       "        0.00635506,  0.06864804, -0.07395551,  0.01736601, -0.0972622 ,\n",
       "       -0.0378588 ,  0.04014199,  0.0062643 ,  0.06458762,  0.09893452,\n",
       "        0.02372441, -0.02474334,  0.0028226 ,  0.04735816,  0.0571154 ,\n",
       "        0.01344984, -0.07666611,  0.05208502, -0.13797979,  0.11684305,\n",
       "       -0.07280552,  0.06381338,  0.06063526, -0.03047371,  0.0128685 ,\n",
       "       -0.03722407,  0.06261703, -0.02170844,  0.04953096, -0.06124322,\n",
       "       -0.0046219 , -0.01140003, -0.02614087, -0.00622016, -0.01772492,\n",
       "       -0.03204471, -0.09012789,  0.06033598,  0.01541657,  0.08807878,\n",
       "        0.03317184, -0.03084351,  0.00886972, -0.05682185,  0.05017067,\n",
       "        0.03431326,  0.06524358,  0.01776474,  0.00561584,  0.02918175,\n",
       "       -0.01241162,  0.04351822, -0.07407499,  0.05811654,  0.02886916,\n",
       "       -0.03272274, -0.02487366,  0.0563472 , -0.01158528,  0.00288417,\n",
       "       -0.00375116,  0.00070771, -0.06002302, -0.03063677,  0.03323523,\n",
       "       -0.02802427, -0.04789355, -0.00264749,  0.01448971,  0.0997695 ,\n",
       "       -0.00044072, -0.16457771,  0.06175105,  0.04026179, -0.0933146 ,\n",
       "        0.00339516, -0.04545744, -0.06314001, -0.03593367, -0.03643133,\n",
       "        0.06475122, -0.04270056,  0.04059109,  0.01853699, -0.02820592,\n",
       "        0.01535425,  0.05198309,  0.06486776, -0.09205225,  0.09532528,\n",
       "       -0.03411094,  0.00962985, -0.00378777,  0.05620009,  0.07402059,\n",
       "       -0.06359331, -0.07140911,  0.03219873,  0.07956085, -0.02590641,\n",
       "        0.00897751,  0.00781093, -0.00040392,  0.01212631, -0.06840339,\n",
       "       -0.00656028,  0.03966423,  0.05593004, -0.027924  , -0.11938903,\n",
       "        0.02696805, -0.06007687, -0.06714148,  0.03518586, -0.01520768,\n",
       "        0.08093818,  0.10515409, -0.08566122,  0.02823297, -0.00464762,\n",
       "       -0.01424006, -0.09027353, -0.08533373,  0.02192278,  0.06290891,\n",
       "       -0.00669159,  0.13898848, -0.00416244, -0.07702562,  0.08465854,\n",
       "       -0.03799801,  0.14471067, -0.05241599, -0.0508776 , -0.03870929,\n",
       "        0.08428333, -0.01665495, -0.05615797, -0.08780909,  0.00058946,\n",
       "        0.02800434,  0.0853385 , -0.01065547,  0.01002785, -0.07083063,\n",
       "        0.1272341 ,  0.01674286, -0.00135503, -0.02252802, -0.07022639,\n",
       "        0.00167502, -0.03449477, -0.06753973, -0.01926287, -0.04956862,\n",
       "        0.01840912,  0.03271316,  0.01449772,  0.03328218, -0.08268441,\n",
       "        0.02324371,  0.03251529,  0.01141259, -0.02898634,  0.08159639,\n",
       "        0.02985359, -0.03607579,  0.0178117 ,  0.01174717, -0.06764324],\n",
       "      dtype=float32)"
      ]
     },
     "execution_count": 23,
     "metadata": {},
     "output_type": "execute_result"
    }
   ],
   "source": [
    "model.wv['компьютер_NOUN']"
   ]
  },
  {
   "cell_type": "code",
   "execution_count": 24,
   "metadata": {
    "slideshow": {
     "slide_type": "subslide"
    }
   },
   "outputs": [
    {
     "data": {
      "text/plain": [
       "[('королева_NOUN', 0.7313904166221619),\n",
       " ('герцог_NOUN', 0.6502389311790466),\n",
       " ('принцесса_NOUN', 0.626628577709198),\n",
       " ('герцогиня_NOUN', 0.6240381002426147),\n",
       " ('королевство_NOUN', 0.6094205975532532),\n",
       " ('зюдерманландский_ADJ', 0.6084391474723816),\n",
       " ('дурлахский_ADJ', 0.6081665754318237),\n",
       " ('ульрик::элеонора_NOUN', 0.6073107123374939),\n",
       " ('максимилианов_NOUN', 0.6057005524635315),\n",
       " ('принц_NOUN', 0.5984027981758118)]"
      ]
     },
     "execution_count": 24,
     "metadata": {},
     "output_type": "execute_result"
    }
   ],
   "source": [
    "model.wv.most_similar(positive=['женщина_NOUN', 'король_NOUN'], negative=['мужчина_NOUN'])"
   ]
  },
  {
   "cell_type": "markdown",
   "metadata": {
    "slideshow": {
     "slide_type": "subslide"
    }
   },
   "source": [
    "Существует множество формул для решения подобных «пропорций».\n",
    "\n",
    "Есть, например, такая.\n",
    "\n",
    "![](https://pp.userapi.com/c824503/v824503923/1341dd/lPxvEgjbKjU.jpg)"
   ]
  },
  {
   "cell_type": "code",
   "execution_count": 25,
   "metadata": {
    "slideshow": {
     "slide_type": "subslide"
    }
   },
   "outputs": [
    {
     "data": {
      "text/plain": [
       "[('королева_NOUN', 0.9440659880638123),\n",
       " ('герцог_NOUN', 0.8865480422973633),\n",
       " ('герцогиня_NOUN', 0.8756471872329712),\n",
       " ('принцесса_NOUN', 0.8743512630462646),\n",
       " ('зюдерманландский_ADJ', 0.8665050268173218),\n",
       " ('шатонефа_NOUN', 0.8633139133453369),\n",
       " ('ульрик::элеонора_NOUN', 0.8596935868263245),\n",
       " ('шанваллон_NOUN', 0.857577919960022),\n",
       " ('дурлахский_ADJ', 0.8565075397491455),\n",
       " ('королевство_NOUN', 0.85478675365448)]"
      ]
     },
     "execution_count": 25,
     "metadata": {},
     "output_type": "execute_result"
    }
   ],
   "source": [
    "model.wv.most_similar_cosmul(positive=['женщина_NOUN', 'король_NOUN'], negative=['мужчина_NOUN'])"
   ]
  },
  {
   "cell_type": "code",
   "execution_count": 26,
   "metadata": {
    "slideshow": {
     "slide_type": "subslide"
    }
   },
   "outputs": [
    {
     "data": {
      "text/plain": [
       "'зимбабве_NOUN'"
      ]
     },
     "execution_count": 26,
     "metadata": {},
     "output_type": "execute_result"
    }
   ],
   "source": [
    "model.wv.doesnt_match('россия_NOUN франция_NOUN германия_NOUN зимбабве_NOUN'.split())"
   ]
  },
  {
   "cell_type": "markdown",
   "metadata": {
    "slideshow": {
     "slide_type": "subslide"
    }
   },
   "source": [
    "Более подробный туториал:\n",
    "\n",
    "https://radimrehurek.com/gensim/models/word2vec"
   ]
  },
  {
   "cell_type": "markdown",
   "metadata": {
    "slideshow": {
     "slide_type": "slide"
    }
   },
   "source": [
    "## Word sense disambiguation"
   ]
  },
  {
   "cell_type": "markdown",
   "metadata": {
    "slideshow": {
     "slide_type": "subslide"
    }
   },
   "source": [
    "### Adagram"
   ]
  },
  {
   "cell_type": "markdown",
   "metadata": {
    "slideshow": {
     "slide_type": "subslide"
    }
   },
   "source": [
    "Adagram — алгоритм, позволяющий для каждого слова находить не один вектор, как делают другие векторные модели, а несколько. Он был разработан исследовательской группой под руководством Дмитрия Ветрова.\n",
    "\n",
    "https://github.com/lopuhin/python-adagram"
   ]
  },
  {
   "cell_type": "markdown",
   "metadata": {
    "slideshow": {
     "slide_type": "subslide"
    }
   },
   "source": [
    "Кстати, WSD — тема Dialogue Evaluaion 2018. Adagram использовался в качестве бейзлайна. Ниже — скриншот результатов дорожки active-dict.\n",
    "\n",
    "![](https://sun9-6.userapi.com/c840726/v840726079/55f04/RGNoSCD1zF4.jpg)"
   ]
  },
  {
   "cell_type": "markdown",
   "metadata": {
    "slideshow": {
     "slide_type": "slide"
    }
   },
   "source": [
    "## Тематическое моделирование"
   ]
  },
  {
   "cell_type": "markdown",
   "metadata": {
    "slideshow": {
     "slide_type": "subslide"
    }
   },
   "source": [
    "### gensim"
   ]
  },
  {
   "cell_type": "markdown",
   "metadata": {
    "slideshow": {
     "slide_type": "subslide"
    }
   },
   "source": [
    "Возьмем датасет https://www.kaggle.com/onidzelskyi/chat-messages и обучим на нем LDA-модель (процесс есть в отдельном ноутбуке). Теперь загрузим ее."
   ]
  },
  {
   "cell_type": "code",
   "execution_count": 27,
   "metadata": {
    "slideshow": {
     "slide_type": "subslide"
    }
   },
   "outputs": [],
   "source": [
    "from gensim.models import LdaModel\n",
    "model = LdaModel.load(\"chat_model.model\")"
   ]
  },
  {
   "cell_type": "markdown",
   "metadata": {
    "slideshow": {
     "slide_type": "subslide"
    }
   },
   "source": [
    "Выведем для каждой из 4 тем топ-10 наиболее значимых слов."
   ]
  },
  {
   "cell_type": "code",
   "execution_count": 28,
   "metadata": {
    "slideshow": {
     "slide_type": "subslide"
    }
   },
   "outputs": [
    {
     "name": "stdout",
     "output_type": "stream",
     "text": [
      "(0, '0.065*\"днепр\" + 0.057*\"для\" + 0.051*\"ищу\" + 0.033*\"смс\" + 0.032*\"ищет\" + 0.030*\"девушку\" + 0.027*\"м\" + 0.026*\"п\" + 0.023*\"парень\" + 0.016*\"дев\"')\n",
      "(1, '0.056*\"я\" + 0.034*\"и\" + 0.019*\"за\" + 0.018*\"хочу\" + 0.015*\"на\" + 0.014*\"не\" + 0.012*\"очень\" + 0.010*\"люблю\" + 0.008*\"сегодня\" + 0.008*\"номер\"')\n",
      "(2, '0.135*\"с\" + 0.052*\"для\" + 0.040*\"м\" + 0.033*\"девушкой\" + 0.025*\"познакомлюсь\" + 0.024*\"смс\" + 0.023*\"со\" + 0.022*\"парень\" + 0.020*\"дж\" + 0.017*\"п\"')\n",
      "(3, '0.032*\"девушки\" + 0.029*\"звоните\" + 0.028*\"в\" + 0.027*\"есть\" + 0.017*\"и\" + 0.016*\"пишите\" + 0.016*\"на\" + 0.015*\"по\" + 0.015*\"кто\" + 0.014*\"перезвоню\"')\n"
     ]
    }
   ],
   "source": [
    "topics = model.show_topics(4, 10)\n",
    "for topic in topics:\n",
    "    print(topic)"
   ]
  },
  {
   "cell_type": "markdown",
   "metadata": {
    "slideshow": {
     "slide_type": "subslide"
    }
   },
   "source": [
    "### BigARTM"
   ]
  },
  {
   "cell_type": "markdown",
   "metadata": {
    "slideshow": {
     "slide_type": "subslide"
    }
   },
   "source": [
    "![](https://camo.githubusercontent.com/f1122165c1f724d13a4f89b699734650d8b8b0b5/687474703a2f2f6269676172746d2e6f72672f696d672f4269674152544d2d6c6f676f2e737667)\n",
    "\n",
    "Аддитивная регуляризация тематических моделей — многокритериальный подход к построению вероятностных тематических моделей коллекций текстовых документов. Охватывает наиболее известные тематические модели PLSA, LDA и многие байесовские модели. Является альтернативой байесовскому обучению тематических моделей."
   ]
  },
  {
   "cell_type": "markdown",
   "metadata": {
    "slideshow": {
     "slide_type": "subslide"
    }
   },
   "source": [
    "https://github.com/bigartm/bigartm"
   ]
  },
  {
   "cell_type": "markdown",
   "metadata": {
    "slideshow": {
     "slide_type": "subslide"
    }
   },
   "source": [
    "Видео:\n",
    "\n",
    "https://www.youtube.com/watch?v=Y7lGYjJ7TR8"
   ]
  },
  {
   "cell_type": "markdown",
   "metadata": {
    "slideshow": {
     "slide_type": "subslide"
    }
   },
   "source": [
    "По сравнению с реализациями стандартных алгоритмов в gensim, BigARTM имеет более широкий функционал и лучше применима к прикладным задачам информационного поиска."
   ]
  },
  {
   "cell_type": "markdown",
   "metadata": {
    "slideshow": {
     "slide_type": "slide"
    }
   },
   "source": [
    "## Извлечение именованных сущностей"
   ]
  },
  {
   "cell_type": "markdown",
   "metadata": {
    "slideshow": {
     "slide_type": "subslide"
    }
   },
   "source": [
    "### Natasha"
   ]
  },
  {
   "cell_type": "markdown",
   "metadata": {
    "slideshow": {
     "slide_type": "subslide"
    }
   },
   "source": [
    "![](https://camo.githubusercontent.com/95459668cd4681d492668972a8dfe63231f84244/687474703a2f2f692e696d6775722e636f6d2f4444324b5953392e706e67)\n",
    "\n",
    "Natasha — библиотека для поиска и извлечения именованных сущностей (Named-entity recognition) из текстов на русском языке. На данный момент разбираются упоминания персон, даты и суммы денег."
   ]
  },
  {
   "cell_type": "code",
   "execution_count": 29,
   "metadata": {
    "slideshow": {
     "slide_type": "subslide"
    }
   },
   "outputs": [
    {
     "name": "stdout",
     "output_type": "stream",
     "text": [
      "\n",
      "Благодарственное письмо\n",
      "Хочу поблагодарить учителей моего, теперь уже бывшего, одиннадцатиклассника:  \n",
      "[[Бушуева Вячеслава Владимировича]] и [[Бушуеву Веру Константиновну]]. Они вовлекали \n",
      "сына в интересные внеурочные занятия, связанные с театром и походами.\n",
      "\n",
      "Благодарю прекрасного учителя 1\"А\" класса - [[Волкову Наталью Николаевну]], \n",
      "нашего наставника, тьютора - [[Ларису Ивановну]], за огромнейший труд, чуткое \n",
      "отношение к детям, взаимопонимание! Огромное спасибо!\n",
      "\n",
      "[\n",
      "  {\n",
      "    \"first\": \"вячеслав\",\n",
      "    \"middle\": \"владимирович\",\n",
      "    \"last\": \"бушуев\"\n",
      "  },\n",
      "  {\n",
      "    \"first\": \"вера\",\n",
      "    \"middle\": \"константиновна\",\n",
      "    \"last\": \"бушуева\"\n",
      "  },\n",
      "  {\n",
      "    \"first\": \"наталья\",\n",
      "    \"middle\": \"николаевна\",\n",
      "    \"last\": \"волкова\"\n",
      "  },\n",
      "  {\n",
      "    \"first\": \"лариса\",\n",
      "    \"middle\": \"ивановна\"\n",
      "  }\n",
      "]\n"
     ]
    }
   ],
   "source": [
    "from natasha import NamesExtractor\n",
    "from natasha.markup import show_markup, show_json\n",
    "\n",
    "extractor = NamesExtractor()\n",
    "\n",
    "text = '''\n",
    "Благодарственное письмо\n",
    "Хочу поблагодарить учителей моего, теперь уже бывшего, одиннадцатиклассника:  \n",
    "Бушуева Вячеслава Владимировича и Бушуеву Веру Константиновну. Они вовлекали \n",
    "сына в интересные внеурочные занятия, связанные с театром и походами.\n",
    "\n",
    "Благодарю прекрасного учителя 1\"А\" класса - Волкову Наталью Николаевну, \n",
    "нашего наставника, тьютора - Ларису Ивановну, за огромнейший труд, чуткое \n",
    "отношение к детям, взаимопонимание! Огромное спасибо!\n",
    "'''\n",
    "matches = extractor(text)\n",
    "spans = [_.span for _ in matches]\n",
    "facts = [_.fact.as_json for _ in matches]\n",
    "show_markup(text, spans)\n",
    "show_json(facts)"
   ]
  },
  {
   "cell_type": "code",
   "execution_count": 30,
   "metadata": {
    "slideshow": {
     "slide_type": "subslide"
    }
   },
   "outputs": [
    {
     "name": "stdout",
     "output_type": "stream",
     "text": [
      "\n",
      "Предлагаю вернуть прежние границы природного парка №71 на [[Инженерной улице 2]].\n",
      "\n",
      "По адресу [[Алтуфьевское шоссе д.51]] (основной вид разрешенного использования: \n",
      "производственная деятельность, склады) размещен МПЗ. Жители требуют \n",
      "незамедлительной остановки МПЗ и его вывода из района\n",
      "\n",
      "Контакты \n",
      "О нас телефон 7 881 574-10-02 \n",
      "Адрес [[Республика Карелия,г.Петрозаводск,ул.Маршала Мерецкова, д.8 Б,офис 4]]\n",
      "\n",
      "[\n",
      "  {\n",
      "    \"parts\": [\n",
      "      {\n",
      "        \"name\": \"Инженерной\",\n",
      "        \"type\": \"улица\"\n",
      "      },\n",
      "      {\n",
      "        \"number\": \"2\"\n",
      "      }\n",
      "    ]\n",
      "  },\n",
      "  {\n",
      "    \"parts\": [\n",
      "      {\n",
      "        \"name\": \"Алтуфьевское\",\n",
      "        \"type\": \"шоссе\"\n",
      "      },\n",
      "      {\n",
      "        \"number\": \"51\",\n",
      "        \"type\": \"дом\"\n",
      "      }\n",
      "    ]\n",
      "  },\n",
      "  {\n",
      "    \"parts\": [\n",
      "      {\n",
      "        \"name\": \"Карелия\",\n",
      "        \"type\": \"республика\"\n",
      "      },\n",
      "      {\n",
      "        \"name\": \"Петрозаводск\",\n",
      "        \"type\": \"город\"\n",
      "      },\n",
      "      {\n",
      "        \"name\": \"Маршала Мерецкова\",\n",
      "        \"type\": \"улица\"\n",
      "      },\n",
      "      {\n",
      "        \"number\": \"8 Б\",\n",
      "        \"type\": \"дом\"\n",
      "      },\n",
      "      {\n",
      "        \"number\": \"4\",\n",
      "        \"type\": \"офис\"\n",
      "      }\n",
      "    ]\n",
      "  }\n",
      "]\n"
     ]
    }
   ],
   "source": [
    "from natasha import AddressExtractor\n",
    "from natasha.markup import show_markup, show_json\n",
    "\n",
    "extractor = AddressExtractor()\n",
    "\n",
    "text = '''\n",
    "Предлагаю вернуть прежние границы природного парка №71 на Инженерной улице 2.\n",
    "\n",
    "По адресу Алтуфьевское шоссе д.51 (основной вид разрешенного использования: \n",
    "производственная деятельность, склады) размещен МПЗ. Жители требуют \n",
    "незамедлительной остановки МПЗ и его вывода из района\n",
    "\n",
    "Контакты \n",
    "О нас телефон 7 881 574-10-02 \n",
    "Адрес Республика Карелия,г.Петрозаводск,ул.Маршала Мерецкова, д.8 Б,офис 4\n",
    "'''\n",
    "matches = extractor(text)\n",
    "spans = [_.span for _ in matches]\n",
    "facts = [_.fact.as_json for _ in matches]\n",
    "show_markup(text, spans)\n",
    "show_json(facts)"
   ]
  },
  {
   "cell_type": "code",
   "execution_count": 31,
   "metadata": {
    "slideshow": {
     "slide_type": "subslide"
    }
   },
   "outputs": [
    {
     "name": "stdout",
     "output_type": "stream",
     "text": [
      "\n",
      "Взыскать к индивидуального предпринимателя [[Иванова Костантипа Петровича]] \n",
      "дата рождения [[10 января 1970 года]], проживающего по адресу \n",
      "[[город Санкт-Петербург, ул. Крузенштерна, дом 5/1А]][[Крузенштерна]], дом 5/1А \n",
      "[[8 000 (восемь тысяч) рублей 00]] копеей госпошлины в пользу бюджета РФ \n",
      "\n",
      "[\n",
      "  {\n",
      "    \"first\": \"костантип\",\n",
      "    \"middle\": \"петрович\",\n",
      "    \"last\": \"иванов\"\n",
      "  },\n",
      "  {\n",
      "    \"last\": \"крузенштерн\"\n",
      "  },\n",
      "  {\n",
      "    \"parts\": [\n",
      "      {\n",
      "        \"name\": \"Санкт-Петербург\",\n",
      "        \"type\": \"город\"\n",
      "      },\n",
      "      {\n",
      "        \"name\": \"Крузенштерна\",\n",
      "        \"type\": \"улица\"\n",
      "      },\n",
      "      {\n",
      "        \"number\": \"5/1А\",\n",
      "        \"type\": \"дом\"\n",
      "      }\n",
      "    ]\n",
      "  },\n",
      "  {\n",
      "    \"year\": 1970,\n",
      "    \"month\": 1,\n",
      "    \"day\": 10\n",
      "  },\n",
      "  {\n",
      "    \"integer\": 8000,\n",
      "    \"currency\": \"RUB\",\n",
      "    \"coins\": 0\n",
      "  }\n",
      "]\n"
     ]
    }
   ],
   "source": [
    "from natasha import (\n",
    "    NamesExtractor,\n",
    "    AddressExtractor,\n",
    "    DatesExtractor,\n",
    "    MoneyExtractor\n",
    ")\n",
    "from natasha.markup import show_markup, show_json\n",
    "\n",
    "extractors = [\n",
    "    NamesExtractor(),\n",
    "    AddressExtractor(),\n",
    "    DatesExtractor(),\n",
    "    MoneyExtractor()\n",
    "]\n",
    "\n",
    "\n",
    "text = '''\n",
    "Взыскать к индивидуального предпринимателя Иванова Костантипа Петровича \n",
    "дата рождения 10 января 1970 года, проживающего по адресу \n",
    "город Санкт-Петербург, ул. Крузенштерна, дом 5/1А \n",
    "8 000 (восемь тысяч) рублей 00 копеей госпошлины в пользу бюджета РФ \n",
    "'''\n",
    "spans = []\n",
    "facts = []\n",
    "for extractor in extractors:\n",
    "    matches = extractor(text)\n",
    "    spans.extend(_.span for _ in matches)\n",
    "    facts.extend(_.fact.as_json for _ in matches)\n",
    "show_markup(text, spans)\n",
    "show_json(facts)"
   ]
  },
  {
   "cell_type": "markdown",
   "metadata": {
    "slideshow": {
     "slide_type": "subslide"
    }
   },
   "source": [
    "Основана на правилах и грамматиках."
   ]
  },
  {
   "cell_type": "markdown",
   "metadata": {
    "slideshow": {
     "slide_type": "slide"
    }
   },
   "source": [
    "### iPavlov, NER"
   ]
  },
  {
   "cell_type": "markdown",
   "metadata": {
    "slideshow": {
     "slide_type": "subslide"
    }
   },
   "source": [
    "![](https://avatars1.githubusercontent.com/u/29918795?s=200&v=4.png)"
   ]
  },
  {
   "cell_type": "markdown",
   "metadata": {
    "slideshow": {
     "slide_type": "subslide"
    }
   },
   "source": [
    "Проект лаборатории нейронных систем и глубокого обучения МФТИ. Обучен на трех больших датасетах Gareev corpus, FactRuEval 2016, NE3. Умеет распознавать персоны, геообъекты и названия организаций."
   ]
  },
  {
   "cell_type": "markdown",
   "metadata": {
    "slideshow": {
     "slide_type": "subslide"
    }
   },
   "source": [
    "https://github.com/deepmipt/ner"
   ]
  },
  {
   "cell_type": "markdown",
   "metadata": {
    "slideshow": {
     "slide_type": "subslide"
    }
   },
   "source": [
    "## python-crfsuite\n"
   ]
  },
  {
   "cell_type": "markdown",
   "metadata": {
    "slideshow": {
     "slide_type": "subslide"
    }
   },
   "source": [
    "Библиотека на основе условных случайных полей. Говорят, для русского языка тоже работает."
   ]
  },
  {
   "cell_type": "markdown",
   "metadata": {
    "slideshow": {
     "slide_type": "subslide"
    }
   },
   "source": [
    "https://github.com/scrapinghub/python-crfsuite"
   ]
  },
  {
   "cell_type": "markdown",
   "metadata": {
    "slideshow": {
     "slide_type": "slide"
    }
   },
   "source": [
    "## Заключение"
   ]
  },
  {
   "cell_type": "markdown",
   "metadata": {
    "slideshow": {
     "slide_type": "subslide"
    }
   },
   "source": [
    "### Полезные ресурсы"
   ]
  },
  {
   "cell_type": "markdown",
   "metadata": {
    "slideshow": {
     "slide_type": "subslide"
    }
   },
   "source": [
    "* NLPub — каталог ресурсов для обработки естественного языка. https://nlpub.ru/\n",
    "\n",
    "* Сайт конференции «Диалог» (там же есть доклады об алгоритмах, которые использовали участники Dialogue Evaluation). http://www.dialog-21.ru/\n",
    "\n",
    "* #nlp (slack ODS)\n",
    "\n",
    "* Антология Ассоциации компьютерной лингвистики (ACL). https://aclanthology.coli.uni-saarland.de/"
   ]
  }
 ],
 "metadata": {
  "celltoolbar": "Slideshow",
  "kernelspec": {
   "display_name": "Python 3",
   "language": "python",
   "name": "python3"
  },
  "language_info": {
   "codemirror_mode": {
    "name": "ipython",
    "version": 3
   },
   "file_extension": ".py",
   "mimetype": "text/x-python",
   "name": "python",
   "nbconvert_exporter": "python",
   "pygments_lexer": "ipython3",
   "version": "3.6.4"
  }
 },
 "nbformat": 4,
 "nbformat_minor": 2
}
